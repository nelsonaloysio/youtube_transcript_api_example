{
 "cells": [
  {
   "cell_type": "markdown",
   "id": "65f0252b",
   "metadata": {},
   "source": [
    "# youtube_transcript_api"
   ]
  },
  {
   "cell_type": "code",
   "execution_count": null,
   "id": "cff22c89",
   "metadata": {},
   "outputs": [],
   "source": [
    "import pandas as pd\n",
    "from youtube_transcript_api import YouTubeTranscriptApi"
   ]
  },
  {
   "cell_type": "code",
   "execution_count": null,
   "id": "200b83ce",
   "metadata": {},
   "outputs": [],
   "source": [
    "# Recarrega funções definidas a cada 2 segundos;\n",
    "# evita ter de reiniciar o kernel o tempo todo\n",
    "# ao desenvolver ou modificar alguma função\n",
    "%load_ext autoreload\n",
    "%autoreload 2"
   ]
  },
  {
   "cell_type": "markdown",
   "id": "dcffa139",
   "metadata": {},
   "source": [
    "___"
   ]
  },
  {
   "cell_type": "markdown",
   "id": "c70c8f6a",
   "metadata": {},
   "source": [
    "# Download de legendas de vários vídeos de vez\n",
    "\n",
    "Aqui definimos uma classe `YouTubeWrapper` contendo apenas duas funções ou [métodos estáticos](https://docs.python.org/pt-br/3/library/functions.html?highlight=staticmethod#staticmethod) (`@staticmethod`):\n",
    "\n",
    "> * `get_subtitles`: baixa a legenda de (um ou múltiplos) vídeos do YouTube\n",
    "\n",
    "> * `get_video_ids`: lê um arquivo contendo IDs de vídeos do YouTube (um por linha, ignorando o cabeçário, i.e., a primeira linha)"
   ]
  },
  {
   "cell_type": "code",
   "execution_count": null,
   "id": "1b2ded09",
   "metadata": {},
   "outputs": [],
   "source": [
    "class YouTubeWrapper():\n",
    "    '''\n",
    "    Get subtitles using youtube_transcript_api.\n",
    "    '''\n",
    "    @staticmethod\n",
    "    def get_subtitles(video_ids, languages=[\"pt\", \"pt-BR\", \"en\"]):\n",
    "        '''\n",
    "        video_ids: list of YouTube IDs to get subtitles\n",
    "        '''\n",
    "        transcripts = {}\n",
    "        \n",
    "        if type(video_ids) == str:\n",
    "            # Cria uma lista separada por vírgulas se necessário\n",
    "            video_ids = video_ids.split(\",\")\n",
    "        \n",
    "        for video_id in video_ids:\n",
    "            try:\n",
    "                # Tenta baixar a legenda (transcript)\n",
    "                transcript = YouTubeTranscriptApi.get_transcript(video_id, languages=languages)\n",
    "            except:\n",
    "                # Avisa do erro, mas não termina o loop\n",
    "                print(\"Erro em baixar a legenda do vídeo: https://www.youtube.com/watch?v=%s.\" % video_id)\n",
    "            else:\n",
    "                # Carrega a legenda (transcript) como dataframe (df),\n",
    "                # substitui quebras de linha (\"\\n\") por espaços (\" \")\n",
    "                # e salva como um arquivo em formato CSV\n",
    "                df = pd.DataFrame(transcript).applymap(lambda x: x.replace(\"\\n\", \" \") if type(x) == str else x)\n",
    "                df.to_csv(\"legenda_%s.csv\" % video_id, index=False)\n",
    "                transcripts[video_id] = df\n",
    "        \n",
    "        print(\"Got %s subtitles.\" % len(transcripts))\n",
    "        return transcripts\n",
    "\n",
    "    @staticmethod\n",
    "    def get_video_ids(file_name, header=True):\n",
    "        '''\n",
    "        file_name: path to file to load YouTube IDs from\n",
    "        '''\n",
    "        with open(file_name, \"r\") as f:\n",
    "            video_ids = [\n",
    "                line.split(\"/\")[-1].strip()\n",
    "                for i, line in enumerate(f.readlines())\n",
    "                if (i > 0 or header is False)\n",
    "            ]\n",
    "        print(\"Read %s lines.\" % len(video_ids))\n",
    "        return video_ids"
   ]
  },
  {
   "cell_type": "markdown",
   "id": "1f0b8c8c",
   "metadata": {},
   "source": [
    "___"
   ]
  },
  {
   "cell_type": "markdown",
   "id": "0305e4c2",
   "metadata": {},
   "source": [
    "### Inicializa a classe e define opções\n",
    "\n",
    "Inicializamos a classe `YouTubeWrapper` definida acima como a variável `yt` e definimos uma lista de IDs de vídeos (`video_ids`)."
   ]
  },
  {
   "cell_type": "code",
   "execution_count": null,
   "id": "256e7787",
   "metadata": {},
   "outputs": [],
   "source": [
    "yt = YouTubeWrapper()"
   ]
  },
  {
   "cell_type": "code",
   "execution_count": null,
   "id": "889d0c67",
   "metadata": {},
   "outputs": [],
   "source": [
    "video_ids = [\"dSu5sXmsur4\", \"BmX86O2ozdo\", \"Bpfw47x5a90\"]"
   ]
  },
  {
   "cell_type": "markdown",
   "id": "64b72462",
   "metadata": {},
   "source": [
    "##### Opcional: lê os IDs de vídeos de um arquivo\n",
    "\n",
    "Lê um arquivo contendo **IDs ou URLs** de vídeos no YouTube (um por linha). Por padrão, ignora a primeira linha de cabeçário (`header=True`)."
   ]
  },
  {
   "cell_type": "code",
   "execution_count": null,
   "id": "95ad27c1",
   "metadata": {
    "scrolled": true
   },
   "outputs": [],
   "source": [
    "video_ids = yt.get_video_ids(\"video_ids.txt\", header=True)"
   ]
  },
  {
   "cell_type": "markdown",
   "id": "8695661f",
   "metadata": {},
   "source": [
    "### Download da legenda de um ou mais vídeos\n",
    "\n",
    "Para uma lista contendo um ou mais IDs de vídeos do YouTube (`video_ids`), retorna um dicionário (`transcripts`) contendo os resultados."
   ]
  },
  {
   "cell_type": "code",
   "execution_count": null,
   "id": "8bdfd408",
   "metadata": {},
   "outputs": [],
   "source": [
    "transcripts = yt.get_subtitles(video_ids)"
   ]
  },
  {
   "cell_type": "markdown",
   "id": "50677078",
   "metadata": {},
   "source": [
    "#### Lista de legendas obtidas\n",
    "\n",
    "Retorna uma lista de chaves (IDs) do dicionário retornado (`transcripts`)."
   ]
  },
  {
   "cell_type": "code",
   "execution_count": null,
   "id": "fe6519e6",
   "metadata": {},
   "outputs": [],
   "source": [
    "transcripts.keys()"
   ]
  },
  {
   "cell_type": "markdown",
   "id": "ff956056",
   "metadata": {},
   "source": [
    "#### Visualizar dados de uma única legenda\n",
    "\n",
    "Retorna o DataFrame de uma única legenda obtida (por padrão, a primeira retornada)."
   ]
  },
  {
   "cell_type": "code",
   "execution_count": null,
   "id": "0f5547b6",
   "metadata": {},
   "outputs": [],
   "source": [
    "video_id = list(transcripts.keys())[0]\n",
    "\n",
    "transcripts[video_id]"
   ]
  },
  {
   "cell_type": "markdown",
   "id": "bf4917b2",
   "metadata": {},
   "source": [
    "#### Transforma em um data frame\n",
    "\n",
    "Concatena **todas** as legendas retornadas em um único DataFrame."
   ]
  },
  {
   "cell_type": "code",
   "execution_count": null,
   "id": "887ad4cb",
   "metadata": {},
   "outputs": [],
   "source": [
    "df = pd.concat(transcripts.values())\n",
    "df"
   ]
  },
  {
   "cell_type": "markdown",
   "id": "7df4c901",
   "metadata": {},
   "source": [
    "#### Extra: contagem das palavras mais ocorrentes\n",
    "\n",
    "Retorna as cinquenta primeiras palavras mais ocorrentes no texto, excluindo-se as palavras com menos de quatro caracterers."
   ]
  },
  {
   "cell_type": "code",
   "execution_count": null,
   "id": "3a7cb2e1",
   "metadata": {},
   "outputs": [],
   "source": [
    "df[\"text\"] \\\n",
    ".apply(\n",
    "    # dado um texto (x), realiza as operações:\n",
    "    # converte para minúsculas (lower)\n",
    "    # substitui quebras de linha por espaços (replace)\n",
    "    # transforma em uma lista separada por espaços (split)\n",
    "    # retorna apenas as palavras que tem 4 ou mais caracteres\n",
    "    lambda x: [word for word in x.lower().replace(\"\\n\", \" \").split() if len(word) > 4]\n",
    ") \\\n",
    ".explode() \\\n",
    ".value_counts()[:50] \\\n",
    ".plot(kind=\"bar\", figsize=(15,6))"
   ]
  },
  {
   "cell_type": "markdown",
   "id": "6824625e",
   "metadata": {},
   "source": [
    "___"
   ]
  },
  {
   "cell_type": "markdown",
   "id": "e9d22061",
   "metadata": {},
   "source": [
    "## Outras funções"
   ]
  },
  {
   "cell_type": "markdown",
   "id": "4a387fda",
   "metadata": {},
   "source": [
    "### Lista de legendas disponíveis de um vídeo\n",
    "\n",
    "Retorna uma lista de legendas disponíveis (`transcript_list`), geradas manualmente (`manual`) ou automaticamente (`automatic`) pelo YouTube."
   ]
  },
  {
   "cell_type": "code",
   "execution_count": null,
   "id": "3eac59ab",
   "metadata": {},
   "outputs": [],
   "source": [
    "video_id = \"dSu5sXmsur4\"\n",
    "languages = [\"pt\", \"pt-BR\", \"en\"]\n",
    "\n",
    "transcript_list = YouTubeTranscriptApi.list_transcripts(video_id)\n",
    "\n",
    "# retorna apenas legendas criadas manualmente\n",
    "manual = transcript_list.find_manually_created_transcript(languages)\n",
    "\n",
    "# retorna apenas legendas criadas manualmente\n",
    "automatic = transcript_list.find_generated_transcript(languages)\n",
    "\n",
    "print(\"Legendas criadas manualmente:\\n%s\\n\\nLegendas criadas automaticamente:\\n%s\" % (manual, automatic) )"
   ]
  },
  {
   "cell_type": "markdown",
   "id": "75b3b47f",
   "metadata": {},
   "source": [
    "### Baixar a legenda de um vídeo do YouTube\n",
    "\n",
    "Retorna a legenda (`transcript`) de um vídeo no YouTube baseado em seu ID (`video_id`) e em uma lista de idiomas (`languages`)."
   ]
  },
  {
   "cell_type": "code",
   "execution_count": null,
   "id": "f7d06844",
   "metadata": {
    "scrolled": false
   },
   "outputs": [],
   "source": [
    "video_id = \"dSu5sXmsur4\"\n",
    "languages = [\"pt\", \"pt-BR\", \"en\"]"
   ]
  },
  {
   "cell_type": "code",
   "execution_count": null,
   "id": "bd08760b",
   "metadata": {},
   "outputs": [],
   "source": [
    "transcript = YouTubeTranscriptApi.get_transcript(video_id, languages=languages)"
   ]
  },
  {
   "cell_type": "markdown",
   "id": "105b947c",
   "metadata": {},
   "source": [
    "#### Inspecionando o objeto\n",
    "\n",
    "A legenda é retornada no formato de uma lista (`list`) de dicionários (`dict`)."
   ]
  },
  {
   "cell_type": "code",
   "execution_count": null,
   "id": "e78b34b5",
   "metadata": {},
   "outputs": [],
   "source": [
    "type(transcript) # tipo da variável"
   ]
  },
  {
   "cell_type": "code",
   "execution_count": null,
   "id": "8ecad059",
   "metadata": {},
   "outputs": [],
   "source": [
    "len(transcript) # número de elementos na lista"
   ]
  },
  {
   "cell_type": "code",
   "execution_count": null,
   "id": "f8778186",
   "metadata": {},
   "outputs": [],
   "source": [
    "type(transcript[0]) # tipo do primeiro objeto/elemento na lista"
   ]
  },
  {
   "cell_type": "code",
   "execution_count": null,
   "id": "c833c439",
   "metadata": {},
   "outputs": [],
   "source": [
    "transcript[0].keys() # chaves do dicionário"
   ]
  },
  {
   "cell_type": "markdown",
   "id": "98177d41",
   "metadata": {},
   "source": [
    "#### Salvar legenda em um arquivo CSV\n",
    "\n",
    "O [Pandas](https://pandas.pydata.org/) automaticamente identifica uma lista de dicionários e o converte para um data frame (`df`). Cada chave se transforma em uma coluna."
   ]
  },
  {
   "cell_type": "code",
   "execution_count": null,
   "id": "5f333add",
   "metadata": {},
   "outputs": [],
   "source": [
    "df = pd.DataFrame(transcript)\n",
    "df"
   ]
  },
  {
   "cell_type": "code",
   "execution_count": null,
   "id": "cf2ce343",
   "metadata": {},
   "outputs": [],
   "source": [
    "df.to_csv(\"legenda_%s.csv\" % video_id, index=False)"
   ]
  },
  {
   "cell_type": "markdown",
   "id": "410fcdee",
   "metadata": {},
   "source": [
    "#### Salvar o arquivo manualmente\n",
    "\n",
    "Salva a legenda para um arquivo **legenda.txt** aberto (`with open`) para escrita (`w` ou `write`) e definidido como **f** (`as f`)."
   ]
  },
  {
   "cell_type": "code",
   "execution_count": null,
   "id": "f30826db",
   "metadata": {},
   "outputs": [],
   "source": [
    "with open(\"legenda.txt\", \"w\") as f:\n",
    "    f.write(\"text\\n\")\n",
    "    for t in transcript:\n",
    "        f.write(t[\"text\"] + \"\\n\")"
   ]
  },
  {
   "cell_type": "markdown",
   "id": "f028cc9c",
   "metadata": {},
   "source": [
    "#### Alternativa: one-liner usando list comprehension\n",
    "\n",
    "Salva a legenda em uma linha apenas usando **[list comprehension](https://docs.python.org/pt-br/3/tutorial/datastructures.html#list-comprehensions)** e aderindo às convenções para leitura/escrita de arquivos com `with`."
   ]
  },
  {
   "cell_type": "code",
   "execution_count": null,
   "id": "5c524b15",
   "metadata": {},
   "outputs": [],
   "source": [
    "with open(\"legenda.txt\", \"w\") as f: f.write(\"text\\n\" + \"\\n\".join([item[\"text\"]+\"\\n\" for item in transcript]))"
   ]
  }
 ],
 "metadata": {
  "kernelspec": {
   "display_name": "Python 3 (ipykernel)",
   "language": "python",
   "name": "python3"
  },
  "language_info": {
   "codemirror_mode": {
    "name": "ipython",
    "version": 3
   },
   "file_extension": ".py",
   "mimetype": "text/x-python",
   "name": "python",
   "nbconvert_exporter": "python",
   "pygments_lexer": "ipython3",
   "version": "3.9.5"
  }
 },
 "nbformat": 4,
 "nbformat_minor": 5
}
